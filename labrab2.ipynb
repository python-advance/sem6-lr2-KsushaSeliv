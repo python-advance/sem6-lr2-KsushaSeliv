{
 "cells": [
  {
   "cell_type": "code",
   "execution_count": 61,
   "metadata": {},
   "outputs": [
    {
     "name": "stdout",
     "output_type": "stream",
     "text": [
      "A:\n",
      "[[2 7 2]\n",
      " [1 5 9]\n",
      " [4 2 5]]\n",
      " B:\n",
      "[[1 2 0]\n",
      " [3 6 2]\n",
      " [5 8 2]]\n",
      " AB:\n",
      "[[ 33  62  18]\n",
      " [ 61 104  28]\n",
      " [ 35  60  14]]\n"
     ]
    }
   ],
   "source": [
    "#Перемножение матриц с использованием потоков \n",
    "\n",
    "\n",
    "import threading #Модуль threading значительно упрощает работу с потоками\n",
    "                 #и позволяет программировать запуск нескольких операций одновременно.\n",
    "\n",
    "import numpy as np #поддержка больших многомерных массивов и матриц \n",
    "\n",
    "class Matric(threading.Thread): #мы хотим, чтобы класс работал как поток. \n",
    "                                #Для этого мы подклассифицируем свой класс из класса Thread . \n",
    "                                #Здесь Matric является дочерним классом класса Thread\n",
    "    \n",
    "    def __init__(self, potok, x, y, matr): #инициализация потока:num-номер потока,a-первая матрица,b-вторая матрица,\n",
    "                                        #m_m-пустая строка, заполянется методом run\n",
    "                                            \n",
    "        threading.Thread.__init__(self) #конструктоор базового класса\n",
    "        self.potok = potok\n",
    "        self.A = A\n",
    "        self.B = B\n",
    "        self.matr = matr\n",
    "\n",
    "    def run(self): #код внутри метода run() для запуска потока\n",
    "        if self.potok is 0: #первый поток\n",
    "            self.matr.append([])\n",
    "            for i in range(3):\n",
    "                self.matr[0].append(sum(self.A[0]*self.B[:,i])) #строка матрицы в виде списка * столбец матрицы в виде списка\n",
    "                                                               #они поэлементно перемножаются и полученный список суммируется\n",
    "                                                               #и получается одно число, которое мы записываем в \n",
    "                                                               #определённую ячейку нулевой строки новой матрицы  \n",
    "        if self.potok is 1: #второй поток\n",
    "            self.matr.append([])\n",
    "            for i in range(3):\n",
    "                self.matr[1].append(sum(self.A[1]*self.B[:,i]))\n",
    "        if self.potok is 2: #третий поток\n",
    "            self.matr.append([])\n",
    "            for i in range(3):\n",
    "                self.matr[2].append(sum(self.A[2]*self.B[:,i]))\n",
    "            c = np.array(self.matr)\n",
    "            \n",
    "            print(f'A:\\n{A}\\n',f'B:\\n{B}\\n',f'AB:\\n{c}')\n",
    "\n",
    "\n",
    "A = np.array([(2, 7, 2), (1, 5, 9), (4, 2, 5)]) #вводим первую матрицу\n",
    "B = np.array([(1, 2, 0), (3, 6, 2), (5, 8, 2)]) #вводит вторую матрицу\n",
    "matricaitog = [] #здесь результат перемножения\n",
    "\n",
    "for i in range(3):\n",
    "    thread = Matric(i, A, B, matricaitog)\n",
    "    thread.start()"
   ]
  },
  {
   "cell_type": "code",
   "execution_count": null,
   "metadata": {},
   "outputs": [],
   "source": []
  },
  {
   "cell_type": "code",
   "execution_count": null,
   "metadata": {
    "collapsed": true
   },
   "outputs": [],
   "source": []
  }
 ],
 "metadata": {
  "kernelspec": {
   "display_name": "Python 3",
   "language": "python",
   "name": "python3"
  },
  "language_info": {
   "codemirror_mode": {
    "name": "ipython",
    "version": 3
   },
   "file_extension": ".py",
   "mimetype": "text/x-python",
   "name": "python",
   "nbconvert_exporter": "python",
   "pygments_lexer": "ipython3",
   "version": "3.6.1"
  }
 },
 "nbformat": 4,
 "nbformat_minor": 2
}
